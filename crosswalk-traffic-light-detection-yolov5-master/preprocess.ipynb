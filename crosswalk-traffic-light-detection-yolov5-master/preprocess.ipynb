{
 "cells": [
  {
   "cell_type": "code",
   "execution_count": 1,
   "id": "e0823670",
   "metadata": {},
   "outputs": [],
   "source": [
    "import os\n",
    "from glob import glob\n",
    "import json\n",
    "from shutil import copy2\n",
    "from tqdm import tqdm\n",
    "from sklearn.model_selection import train_test_split"
   ]
  },
  {
   "cell_type": "code",
   "execution_count": 2,
   "id": "3b182ffc",
   "metadata": {},
   "outputs": [],
   "source": [
    "class_names = ['Zebra_Cross', 'R_Signal', 'G_Signal']"
   ]
  },
  {
   "cell_type": "code",
   "execution_count": 3,
   "id": "071cb20c",
   "metadata": {},
   "outputs": [
    {
     "data": {
      "text/plain": [
       "35244"
      ]
     },
     "execution_count": 3,
     "metadata": {},
     "output_type": "execute_result"
    }
   ],
   "source": [
    "DATA_PATH = 'C:/Users/Brad/Documents/Dataset/crosswalk-dataset'\n",
    "\n",
    "img_list = glob(os.path.join(DATA_PATH, '*', '*.jpg'))\n",
    "\n",
    "len(img_list)"
   ]
  },
  {
   "cell_type": "code",
   "execution_count": 4,
   "id": "5a0630fd",
   "metadata": {},
   "outputs": [],
   "source": [
    "os.makedirs(os.path.join(DATA_PATH, 'train', 'images'), exist_ok=True)\n",
    "os.makedirs(os.path.join(DATA_PATH, 'train', 'labels'), exist_ok=True)\n",
    "os.makedirs(os.path.join(DATA_PATH, 'val', 'images'), exist_ok=True)\n",
    "os.makedirs(os.path.join(DATA_PATH, 'val', 'labels'), exist_ok=True)"
   ]
  },
  {
   "cell_type": "code",
   "execution_count": 5,
   "id": "e2a245f3",
   "metadata": {},
   "outputs": [
    {
     "data": {
      "text/plain": [
       "(28195, 7049)"
      ]
     },
     "execution_count": 5,
     "metadata": {},
     "output_type": "execute_result"
    }
   ],
   "source": [
    "train_img_list, val_img_list = train_test_split(img_list, test_size=0.2, random_state=2022)\n",
    "\n",
    "len(train_img_list), len(val_img_list)"
   ]
  },
  {
   "cell_type": "code",
   "execution_count": 8,
   "id": "7ca5c1c9",
   "metadata": {
    "scrolled": true
   },
   "outputs": [
    {
     "name": "stderr",
     "output_type": "stream",
     "text": [
      " 18%|█████████████▊                                                              | 5135/28195 [00:08<00:41, 555.28it/s]"
     ]
    },
    {
     "name": "stdout",
     "output_type": "stream",
     "text": [
      "'1' is not in list C:/Users/Brad/Documents/Dataset/(2차_최종) 교차로정보 데이터셋_20210720\\교차로정보 데이터셋_bbox_2\\MP_SEL_047407.jpg\n"
     ]
    },
    {
     "name": "stderr",
     "output_type": "stream",
     "text": [
      " 25%|███████████████████▎                                                        | 7149/28195 [00:12<00:34, 614.42it/s]"
     ]
    },
    {
     "name": "stdout",
     "output_type": "stream",
     "text": [
      "'1' is not in list C:/Users/Brad/Documents/Dataset/(2차_최종) 교차로정보 데이터셋_20210720\\교차로정보 데이터셋_bbox_1\\MP_SEL_017712.jpg\n"
     ]
    },
    {
     "name": "stderr",
     "output_type": "stream",
     "text": [
      " 26%|████████████████████                                                        | 7456/28195 [00:12<00:34, 607.39it/s]"
     ]
    },
    {
     "name": "stdout",
     "output_type": "stream",
     "text": [
      "'1' is not in list C:/Users/Brad/Documents/Dataset/(2차_최종) 교차로정보 데이터셋_20210720\\교차로정보 데이터셋_bbox_1\\MP_SEL_037601.jpg\n",
      "'1' is not in list C:/Users/Brad/Documents/Dataset/(2차_최종) 교차로정보 데이터셋_20210720\\교차로정보 데이터셋_bbox_2\\MP_SEL_012921.jpg\n"
     ]
    },
    {
     "name": "stderr",
     "output_type": "stream",
     "text": [
      " 65%|████████████████████████████████████████████████▍                          | 18226/28195 [00:31<00:16, 611.11it/s]"
     ]
    },
    {
     "name": "stdout",
     "output_type": "stream",
     "text": [
      "'1' is not in list C:/Users/Brad/Documents/Dataset/(2차_최종) 교차로정보 데이터셋_20210720\\교차로정보 데이터셋_bbox_1\\MP_SEL_053791.jpg\n"
     ]
    },
    {
     "name": "stderr",
     "output_type": "stream",
     "text": [
      "100%|███████████████████████████████████████████████████████████████████████████| 28195/28195 [00:48<00:00, 580.48it/s]"
     ]
    },
    {
     "name": "stdout",
     "output_type": "stream",
     "text": [
      "28190\n"
     ]
    },
    {
     "name": "stderr",
     "output_type": "stream",
     "text": [
      "\n"
     ]
    }
   ],
   "source": [
    "file_list = []\n",
    "\n",
    "for img_path in tqdm(train_img_list):\n",
    "    json_path = img_path.replace('.jpg', '.json')\n",
    "\n",
    "    with open(json_path, 'r') as f:\n",
    "        data = json.load(f)\n",
    "\n",
    "    w = data['imageWidth']\n",
    "    h = data['imageHeight']\n",
    "    \n",
    "    txt = ''\n",
    "    \n",
    "    try:\n",
    "        for shape in data['shapes']:\n",
    "            label = shape['label']\n",
    "\n",
    "            x1, y1 = shape['points'][0]\n",
    "            x2, y2 = shape['points'][1]\n",
    "\n",
    "            cx = (x1 + x2) / 2. / w\n",
    "            cy = (y1 + y2) / 2. / h\n",
    "            bw = (x2 - x1) / w\n",
    "            bh = (y2 - y1) / h\n",
    "\n",
    "            label = class_names.index(shape['label'])\n",
    "\n",
    "            txt += '%d %f %f %f %f\\n' % (label, cx, cy, bw, bh)\n",
    "\n",
    "        copy2(img_path, os.path.join(DATA_PATH, 'train', 'images', os.path.basename(img_path)))\n",
    "\n",
    "        with open(os.path.join(DATA_PATH, 'train', 'labels', os.path.basename(json_path).replace('.json', '.txt')), 'w') as f:\n",
    "            f.write(txt)\n",
    "        \n",
    "        file_list.append(os.path.join('train', 'images', os.path.basename(img_path)))\n",
    "    except Exception as e:\n",
    "        print(e, img_path)\n",
    "    \n",
    "with open(os.path.join(DATA_PATH, 'train.txt'), 'w', encoding='utf-8') as f:\n",
    "    f.write('\\n'.join(file_list) + '\\n')\n",
    "        \n",
    "print(len(file_list))"
   ]
  },
  {
   "cell_type": "code",
   "execution_count": 9,
   "id": "2f81772f",
   "metadata": {},
   "outputs": [
    {
     "name": "stderr",
     "output_type": "stream",
     "text": [
      "100%|█████████████████████████████████████████████████████████████████████████████| 7049/7049 [00:17<00:00, 402.53it/s]"
     ]
    },
    {
     "name": "stdout",
     "output_type": "stream",
     "text": [
      "7049\n"
     ]
    },
    {
     "name": "stderr",
     "output_type": "stream",
     "text": [
      "\n"
     ]
    }
   ],
   "source": [
    "file_list = []\n",
    "\n",
    "for img_path in tqdm(val_img_list):\n",
    "    json_path = img_path.replace('.jpg', '.json')\n",
    "\n",
    "    with open(json_path, 'r') as f:\n",
    "        data = json.load(f)\n",
    "\n",
    "    w = data['imageWidth']\n",
    "    h = data['imageHeight']\n",
    "    \n",
    "    txt = ''\n",
    "    \n",
    "    try:\n",
    "        for shape in data['shapes']:\n",
    "            label = shape['label']\n",
    "\n",
    "            x1, y1 = shape['points'][0]\n",
    "            x2, y2 = shape['points'][1]\n",
    "\n",
    "            cx = (x1 + x2) / 2. / w\n",
    "            cy = (y1 + y2) / 2. / h\n",
    "            bw = (x2 - x1) / w\n",
    "            bh = (y2 - y1) / h\n",
    "\n",
    "            label = class_names.index(shape['label'])\n",
    "\n",
    "            txt += '%d %f %f %f %f\\n' % (label, cx, cy, bw, bh)\n",
    "\n",
    "        copy2(img_path, os.path.join(DATA_PATH, 'val', 'images', os.path.basename(img_path)))\n",
    "\n",
    "        with open(os.path.join(DATA_PATH, 'val', 'labels', os.path.basename(json_path).replace('.json', '.txt')), 'w') as f:\n",
    "            f.write(txt)\n",
    "        \n",
    "        file_list.append(os.path.join('val', 'images', os.path.basename(img_path)))\n",
    "    except Exception as e:\n",
    "        print(e, img_path)\n",
    "    \n",
    "with open(os.path.join(DATA_PATH, 'val.txt'), 'w', encoding='utf-8') as f:\n",
    "    f.write('\\n'.join(file_list) + '\\n')\n",
    "        \n",
    "print(len(file_list))"
   ]
  },
  {
   "cell_type": "code",
   "execution_count": null,
   "id": "d558170c",
   "metadata": {},
   "outputs": [],
   "source": []
  }
 ],
 "metadata": {
  "kernelspec": {
   "display_name": "Python 3 (ipykernel)",
   "language": "python",
   "name": "python3"
  },
  "language_info": {
   "codemirror_mode": {
    "name": "ipython",
    "version": 3
   },
   "file_extension": ".py",
   "mimetype": "text/x-python",
   "name": "python",
   "nbconvert_exporter": "python",
   "pygments_lexer": "ipython3",
   "version": "3.8.8"
  }
 },
 "nbformat": 4,
 "nbformat_minor": 5
}
